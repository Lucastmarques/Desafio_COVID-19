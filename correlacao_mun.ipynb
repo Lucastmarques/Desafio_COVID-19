{
 "cells": [
  {
   "cell_type": "markdown",
   "metadata": {},
   "source": [
    "# Correlação para o Menor Dataset"
   ]
  },
  {
   "cell_type": "code",
   "execution_count": 1,
   "metadata": {},
   "outputs": [],
   "source": [
    "import pandas as pd \n",
    "import numpy as np "
   ]
  },
  {
   "cell_type": "code",
   "execution_count": 2,
   "metadata": {
    "tags": []
   },
   "outputs": [
    {
     "output_type": "stream",
     "name": "stdout",
     "text": "<class 'pandas.core.frame.DataFrame'>\nRangeIndex: 4176 entries, 0 to 4175\nData columns (total 9 columns):\n #   Column                                        Non-Null Count  Dtype  \n---  ------                                        --------------  -----  \n 0   date                                          4176 non-null   object \n 1   city                                          4176 non-null   object \n 2   last_available_confirmed                      4176 non-null   int64  \n 3   Gini_Index_2010                               4176 non-null   float64\n 4   access_to_water_and_basic_sanitatio_per_cent  4176 non-null   float64\n 5   MHDI_income                                   4176 non-null   float64\n 6   MHDI_education                                4176 non-null   float64\n 7   aging_rate                                    4176 non-null   float64\n 8   extremely_poor_per_cent                       4176 non-null   float64\ndtypes: float64(6), int64(1), object(2)\nmemory usage: 293.8+ KB\n"
    }
   ],
   "source": [
    "data1 = pd.read_csv('Dados_Covid_Socio.csv')\n",
    "data1.info()"
   ]
  },
  {
   "cell_type": "code",
   "execution_count": 3,
   "metadata": {},
   "outputs": [],
   "source": [
    "corr_total1 = data1.corr()"
   ]
  },
  {
   "cell_type": "code",
   "execution_count": 4,
   "metadata": {},
   "outputs": [
    {
     "output_type": "execute_result",
     "data": {
      "text/plain": "                                              last_available_confirmed  \\\nlast_available_confirmed                                      1.000000   \nGini_Index_2010                                               0.221036   \naccess_to_water_and_basic_sanitatio_per_cent                 -0.190379   \nMHDI_income                                                   0.427840   \nMHDI_education                                                0.360016   \naging_rate                                                   -0.170094   \nextremely_poor_per_cent                                      -0.261681   \n\n                                              Gini_Index_2010  \\\nlast_available_confirmed                             0.221036   \nGini_Index_2010                                      1.000000   \naccess_to_water_and_basic_sanitatio_per_cent        -0.051241   \nMHDI_income                                          0.331240   \nMHDI_education                                       0.178299   \naging_rate                                          -0.065402   \nextremely_poor_per_cent                              0.157009   \n\n                                              access_to_water_and_basic_sanitatio_per_cent  \\\nlast_available_confirmed                                                         -0.190379   \nGini_Index_2010                                                                  -0.051241   \naccess_to_water_and_basic_sanitatio_per_cent                                      1.000000   \nMHDI_income                                                                      -0.591142   \nMHDI_education                                                                   -0.533942   \naging_rate                                                                        0.230456   \nextremely_poor_per_cent                                                           0.615141   \n\n                                              MHDI_income  MHDI_education  \\\nlast_available_confirmed                         0.427840        0.360016   \nGini_Index_2010                                  0.331240        0.178299   \naccess_to_water_and_basic_sanitatio_per_cent    -0.591142       -0.533942   \nMHDI_income                                      1.000000        0.837958   \nMHDI_education                                   0.837958        1.000000   \naging_rate                                      -0.326296       -0.183042   \nextremely_poor_per_cent                         -0.827574       -0.688106   \n\n                                              aging_rate  \\\nlast_available_confirmed                       -0.170094   \nGini_Index_2010                                -0.065402   \naccess_to_water_and_basic_sanitatio_per_cent    0.230456   \nMHDI_income                                    -0.326296   \nMHDI_education                                 -0.183042   \naging_rate                                      1.000000   \nextremely_poor_per_cent                         0.371202   \n\n                                              extremely_poor_per_cent  \nlast_available_confirmed                                    -0.261681  \nGini_Index_2010                                              0.157009  \naccess_to_water_and_basic_sanitatio_per_cent                 0.615141  \nMHDI_income                                                 -0.827574  \nMHDI_education                                              -0.688106  \naging_rate                                                   0.371202  \nextremely_poor_per_cent                                      1.000000  ",
      "text/html": "<div>\n<style scoped>\n    .dataframe tbody tr th:only-of-type {\n        vertical-align: middle;\n    }\n\n    .dataframe tbody tr th {\n        vertical-align: top;\n    }\n\n    .dataframe thead th {\n        text-align: right;\n    }\n</style>\n<table border=\"1\" class=\"dataframe\">\n  <thead>\n    <tr style=\"text-align: right;\">\n      <th></th>\n      <th>last_available_confirmed</th>\n      <th>Gini_Index_2010</th>\n      <th>access_to_water_and_basic_sanitatio_per_cent</th>\n      <th>MHDI_income</th>\n      <th>MHDI_education</th>\n      <th>aging_rate</th>\n      <th>extremely_poor_per_cent</th>\n    </tr>\n  </thead>\n  <tbody>\n    <tr>\n      <th>last_available_confirmed</th>\n      <td>1.000000</td>\n      <td>0.221036</td>\n      <td>-0.190379</td>\n      <td>0.427840</td>\n      <td>0.360016</td>\n      <td>-0.170094</td>\n      <td>-0.261681</td>\n    </tr>\n    <tr>\n      <th>Gini_Index_2010</th>\n      <td>0.221036</td>\n      <td>1.000000</td>\n      <td>-0.051241</td>\n      <td>0.331240</td>\n      <td>0.178299</td>\n      <td>-0.065402</td>\n      <td>0.157009</td>\n    </tr>\n    <tr>\n      <th>access_to_water_and_basic_sanitatio_per_cent</th>\n      <td>-0.190379</td>\n      <td>-0.051241</td>\n      <td>1.000000</td>\n      <td>-0.591142</td>\n      <td>-0.533942</td>\n      <td>0.230456</td>\n      <td>0.615141</td>\n    </tr>\n    <tr>\n      <th>MHDI_income</th>\n      <td>0.427840</td>\n      <td>0.331240</td>\n      <td>-0.591142</td>\n      <td>1.000000</td>\n      <td>0.837958</td>\n      <td>-0.326296</td>\n      <td>-0.827574</td>\n    </tr>\n    <tr>\n      <th>MHDI_education</th>\n      <td>0.360016</td>\n      <td>0.178299</td>\n      <td>-0.533942</td>\n      <td>0.837958</td>\n      <td>1.000000</td>\n      <td>-0.183042</td>\n      <td>-0.688106</td>\n    </tr>\n    <tr>\n      <th>aging_rate</th>\n      <td>-0.170094</td>\n      <td>-0.065402</td>\n      <td>0.230456</td>\n      <td>-0.326296</td>\n      <td>-0.183042</td>\n      <td>1.000000</td>\n      <td>0.371202</td>\n    </tr>\n    <tr>\n      <th>extremely_poor_per_cent</th>\n      <td>-0.261681</td>\n      <td>0.157009</td>\n      <td>0.615141</td>\n      <td>-0.827574</td>\n      <td>-0.688106</td>\n      <td>0.371202</td>\n      <td>1.000000</td>\n    </tr>\n  </tbody>\n</table>\n</div>"
     },
     "metadata": {},
     "execution_count": 4
    }
   ],
   "source": [
    "corr_total1"
   ]
  },
  {
   "cell_type": "markdown",
   "metadata": {},
   "source": [
    "# Correlação para o Dataset Maior"
   ]
  },
  {
   "cell_type": "code",
   "execution_count": 5,
   "metadata": {
    "tags": []
   },
   "outputs": [
    {
     "output_type": "stream",
     "name": "stdout",
     "text": "<class 'pandas.core.frame.DataFrame'>\nRangeIndex: 9670 entries, 0 to 9669\nColumns: 235 entries, last_available_date to IDHM_R\ndtypes: float64(232), int64(1), object(2)\nmemory usage: 17.3+ MB\n"
    }
   ],
   "source": [
    "data = pd.read_csv('Dataset_finalizado.csv')\n",
    "data.info()"
   ]
  },
  {
   "cell_type": "code",
   "execution_count": 6,
   "metadata": {},
   "outputs": [],
   "source": [
    "corr_total2 = data.corr()\n",
    "corr_refac = corr_total2\n",
    "\n",
    "for c in corr_total2.columns:\n",
    "    corr_refac[c].loc[corr_refac[c] >= 0.7] = 11111\n",
    "    corr_refac[c].loc[corr_refac[c] <= -0.7] = 11111"
   ]
  },
  {
   "cell_type": "code",
   "execution_count": 7,
   "metadata": {
    "tags": []
   },
   "outputs": [],
   "source": [
    "colunas = corr_refac.columns.tolist()\n",
    "colunas.append('XX')\n",
    "index = 0\n",
    "col = colunas[index]\n",
    "\n",
    "while(col != 'XX'):\n",
    "    del_list = corr_refac[col].loc[corr_refac[col]==11111].index\n",
    "\n",
    "    for i in del_list:\n",
    "        if(i != col):\n",
    "            corr_refac = corr_refac.drop(index=i)\n",
    "            corr_refac = corr_refac.drop(columns=i)\n",
    "            colunas.remove(i)\n",
    "\n",
    "    index += 1 \n",
    "    col = colunas[index]\n",
    "\n",
    "colunas.remove('XX')"
   ]
  },
  {
   "cell_type": "code",
   "execution_count": 8,
   "metadata": {
    "tags": []
   },
   "outputs": [
    {
     "output_type": "stream",
     "name": "stdout",
     "text": "['last_available_confirmed', 'ESPVIDA', 'FECTOT', 'RAZDEP', 'T_ENV', 'E_ANOSESTUDO', 'T_ANALF11A14', 'T_ANALF25A29', 'T_ATRASO_0_MED', 'T_ATRASO_1_BASICO', 'T_ATRASO_2_MED', 'T_FBBAS', 'T_FBMED', 'T_FBPRE', 'T_FBSUPER', 'T_FLBAS', 'T_FREQ0A3', 'T_FREQ11A14', 'T_FREQ15A17', 'T_FREQ18A24', 'T_FREQ25A29', 'T_FREQ4A5', 'T_FREQ6', 'T_FREQFUND1517', 'T_FREQFUND1824', 'T_FREQFUND45', 'T_FREQMED1824', 'T_FREQMED614', 'T_FREQSUPER1517', 'T_FUND11A13', 'T_FUND18A24', 'CORTE4', 'GINI', 'PIND', 'PRENTRAB', 'RIND', 'CPR', 'EMP', 'P_COM', 'P_CONSTR', 'P_EXTR', 'P_SERV', 'P_SIUP', 'P_TRANSF', 'T_ATIV', 'T_ATIV1014', 'T_DES', 'T_DES1014', 'T_DES1517', 'THEILtrab', 'TRABPUB', 'TRABSC', 'T_AGUA', 'T_DENS', 'T_LIXO', 'T_LUZ', 'PAREDE', 'T_M10A14CF', 'T_M15A17CF', 'T_MULCHEFEFIF014', 'T_OCUPDESLOC_1', 'T_RMAXIDOSO', 'HOMEM75A79', 'pesoRUR']\n"
    }
   ],
   "source": [
    "print(colunas)"
   ]
  },
  {
   "cell_type": "markdown",
   "metadata": {},
   "source": [
    "# Exportando Dataset Filtrado"
   ]
  },
  {
   "cell_type": "code",
   "execution_count": 9,
   "metadata": {},
   "outputs": [],
   "source": [
    "new_data = pd.DataFrame()\n",
    "new_data['last_available_date'] = data['last_available_date']\n",
    "new_data['city'] = data['city']\n",
    "\n",
    "for col in colunas:\n",
    "    new_data[col] = data[col]"
   ]
  },
  {
   "cell_type": "code",
   "execution_count": 10,
   "metadata": {},
   "outputs": [],
   "source": [
    "new_data.to_csv(path_or_buf='Dataset_finalizado_filtrado.csv', index=False)"
   ]
  },
  {
   "cell_type": "code",
   "execution_count": null,
   "metadata": {},
   "outputs": [],
   "source": []
  }
 ],
 "metadata": {
  "language_info": {
   "codemirror_mode": {
    "name": "ipython",
    "version": 3
   },
   "file_extension": ".py",
   "mimetype": "text/x-python",
   "name": "python",
   "nbconvert_exporter": "python",
   "pygments_lexer": "ipython3",
   "version": "3.7.6-final"
  },
  "orig_nbformat": 2,
  "kernelspec": {
   "name": "python3",
   "display_name": "Python 3"
  }
 },
 "nbformat": 4,
 "nbformat_minor": 2
}