{
 "cells": [
  {
   "cell_type": "markdown",
   "metadata": {},
   "source": [
    "# Predição do Casos de Coronavírus\n"
   ]
  },
  {
   "cell_type": "markdown",
   "metadata": {},
   "source": [
    "## Sem filtrar as variáveis com correlação alta do dataset"
   ]
  },
  {
   "cell_type": "code",
   "execution_count": 1,
   "metadata": {},
   "outputs": [],
   "source": [
    "import pandas as pd \n",
    "import numpy as np \n",
    "import sys \n",
    "import pickle\n",
    "from sklearn.preprocessing import LabelEncoder, OneHotEncoder\n",
    "from sklearn.compose import ColumnTransformer\n",
    "from sklearn.preprocessing import StandardScaler\n",
    "from sklearn.svm import SVR"
   ]
  },
  {
   "cell_type": "code",
   "execution_count": 2,
   "metadata": {
    "tags": []
   },
   "outputs": [],
   "source": [
    "### Importando base de dados\n",
    "data = pd.read_csv('Dataset_finalizado.csv')\n",
    "\n",
    "city_request = 'Acari'       #sys.argv[2]\n",
    "date_request = '2020-07-06'  #sys.argv[1]\n",
    "\n",
    "city_request = city_request.upper()"
   ]
  },
  {
   "cell_type": "code",
   "execution_count": 3,
   "metadata": {
    "tags": []
   },
   "outputs": [],
   "source": [
    "if(not (pd.isnull(data.loc[data.city == city_request].city).values[0])):\n",
    "    requested_info = data.loc[data.city == city_request]\n",
    "    requested_info['last_available_date'] = date_request\n",
    "    requested_info = requested_info.iloc[[0], :]"
   ]
  },
  {
   "cell_type": "code",
   "execution_count": 4,
   "metadata": {},
   "outputs": [],
   "source": [
    "data_concat = pd.concat([requested_info, data], ignore_index=True).dropna()"
   ]
  },
  {
   "cell_type": "code",
   "execution_count": 5,
   "metadata": {},
   "outputs": [],
   "source": [
    "X = data_concat.iloc[:, :].drop(columns=['last_available_confirmed']).values\n",
    "Y = data_concat.iloc[1:, 2].values"
   ]
  },
  {
   "cell_type": "code",
   "execution_count": 6,
   "metadata": {},
   "outputs": [],
   "source": [
    "labelencoder_X = LabelEncoder()\n",
    "X[:, 0] = labelencoder_X.fit_transform(X[:,0])\n",
    "X[:, 1] = labelencoder_X.fit_transform(X[:,1])"
   ]
  },
  {
   "cell_type": "code",
   "execution_count": 7,
   "metadata": {},
   "outputs": [],
   "source": [
    "onehotencorder = ColumnTransformer(transformers=[(\"OneHot\", OneHotEncoder(), [1])], remainder='passthrough')\n",
    "X = onehotencorder.fit_transform(X)"
   ]
  },
  {
   "cell_type": "code",
   "execution_count": 8,
   "metadata": {},
   "outputs": [],
   "source": [
    "scaler_X = StandardScaler()\n",
    "X = scaler_X.fit_transform(X)\n",
    "scaler_Y = StandardScaler()\n",
    "Y = scaler_Y.fit_transform(Y.reshape(-1,1))"
   ]
  },
  {
   "cell_type": "code",
   "execution_count": 9,
   "metadata": {},
   "outputs": [],
   "source": [
    "X_test = [X[0, :]]\n",
    "X_train = X[1:, :]"
   ]
  },
  {
   "cell_type": "code",
   "execution_count": 10,
   "metadata": {},
   "outputs": [
    {
     "output_type": "execute_result",
     "data": {
      "text/plain": "SVR(C=1.0, cache_size=200, coef0=0.0, degree=3, epsilon=0.1, gamma='scale',\n    kernel='poly', max_iter=-1, shrinking=True, tol=0.001, verbose=False)"
     },
     "metadata": {},
     "execution_count": 10
    }
   ],
   "source": [
    "regressor = SVR(kernel='poly', degree=3)\n",
    "regressor.fit(X_train, Y)"
   ]
  },
  {
   "cell_type": "code",
   "execution_count": 11,
   "metadata": {},
   "outputs": [
    {
     "output_type": "execute_result",
     "data": {
      "text/plain": "0.7729445536002443"
     },
     "metadata": {},
     "execution_count": 11
    }
   ],
   "source": [
    "regressor.score(X_train, Y)"
   ]
  },
  {
   "cell_type": "code",
   "execution_count": 12,
   "metadata": {
    "tags": []
   },
   "outputs": [
    {
     "output_type": "stream",
     "name": "stdout",
     "text": "64.25380593831872\n"
    }
   ],
   "source": [
    "previsao = regressor.predict(X_test)\n",
    "X_test = scaler_X.inverse_transform(X_test)\n",
    "previsao = scaler_Y.inverse_transform(previsao)\n",
    "print(previsao[0])"
   ]
  },
  {
   "cell_type": "markdown",
   "metadata": {},
   "source": [
    "## Filtrando as variáveis com correlação >= 0.70"
   ]
  },
  {
   "cell_type": "code",
   "execution_count": 42,
   "metadata": {},
   "outputs": [],
   "source": [
    "### Importando base de dados\n",
    "data = pd.read_csv('Dataset_finalizado_filtrado.csv')\n",
    "\n",
    "city_request = 'Acari'       #sys.argv[2]\n",
    "date_request = '2020-07-06'  #sys.argv[1]\n",
    "\n",
    "city_request = city_request.upper()"
   ]
  },
  {
   "cell_type": "code",
   "execution_count": 43,
   "metadata": {},
   "outputs": [],
   "source": [
    "if(not (pd.isnull(data.loc[data.city == city_request].city).values[0])):\n",
    "    requested_info = data.loc[data.city == city_request]\n",
    "    requested_info['last_available_date'] = date_request\n",
    "    requested_info = requested_info.iloc[[0], :]"
   ]
  },
  {
   "cell_type": "code",
   "execution_count": 44,
   "metadata": {},
   "outputs": [],
   "source": [
    "data_concat = pd.DataFrame()"
   ]
  },
  {
   "cell_type": "code",
   "execution_count": 45,
   "metadata": {},
   "outputs": [],
   "source": [
    "data_concat = pd.concat([requested_info, data], ignore_index=True).dropna()"
   ]
  },
  {
   "cell_type": "code",
   "execution_count": 46,
   "metadata": {},
   "outputs": [],
   "source": [
    "X = data_concat.iloc[:, :].drop(columns=['last_available_confirmed']).values\n",
    "Y = data_concat.iloc[1:, 2].values"
   ]
  },
  {
   "cell_type": "code",
   "execution_count": 47,
   "metadata": {},
   "outputs": [],
   "source": [
    "labelencoder_X = LabelEncoder()\n",
    "X[:, 0] = labelencoder_X.fit_transform(X[:,0])\n",
    "X[:, 1] = labelencoder_X.fit_transform(X[:,1])"
   ]
  },
  {
   "cell_type": "code",
   "execution_count": 48,
   "metadata": {},
   "outputs": [],
   "source": [
    "onehotencorder = ColumnTransformer(transformers=[(\"OneHot\", OneHotEncoder(), [1])], remainder='passthrough')\n",
    "X = onehotencorder.fit_transform(X).toarray()"
   ]
  },
  {
   "cell_type": "code",
   "execution_count": 49,
   "metadata": {},
   "outputs": [],
   "source": [
    "scaler_X = StandardScaler()\n",
    "X = scaler_X.fit_transform(X)\n",
    "scaler_Y = StandardScaler()\n",
    "Y = scaler_Y.fit_transform(Y.reshape(-1,1))"
   ]
  },
  {
   "cell_type": "code",
   "execution_count": 50,
   "metadata": {},
   "outputs": [],
   "source": [
    "X_test = [X[0, :]]\n",
    "X_train = X[1:, :]"
   ]
  },
  {
   "cell_type": "code",
   "execution_count": 51,
   "metadata": {},
   "outputs": [
    {
     "output_type": "execute_result",
     "data": {
      "text/plain": "SVR(C=1.0, cache_size=200, coef0=0.0, degree=18, epsilon=0.1, gamma='scale',\n    kernel='poly', max_iter=-1, shrinking=True, tol=0.001, verbose=False)"
     },
     "metadata": {},
     "execution_count": 51
    }
   ],
   "source": [
    "regressor = SVR(kernel='poly', degree=18)\n",
    "regressor.fit(X_train, Y)"
   ]
  },
  {
   "cell_type": "code",
   "execution_count": 52,
   "metadata": {},
   "outputs": [
    {
     "output_type": "execute_result",
     "data": {
      "text/plain": "0.9000499271342909"
     },
     "metadata": {},
     "execution_count": 52
    }
   ],
   "source": [
    "regressor.score(X_train, Y)"
   ]
  },
  {
   "cell_type": "code",
   "execution_count": 53,
   "metadata": {
    "tags": []
   },
   "outputs": [
    {
     "output_type": "stream",
     "name": "stdout",
     "text": "48.11842933638493\n"
    }
   ],
   "source": [
    "previsao = regressor.predict(X_test)\n",
    "previsao = scaler_Y.inverse_transform(previsao)\n",
    "print(previsao[0])"
   ]
  },
  {
   "cell_type": "code",
   "execution_count": null,
   "metadata": {},
   "outputs": [],
   "source": []
  },
  {
   "cell_type": "code",
   "execution_count": null,
   "metadata": {},
   "outputs": [],
   "source": []
  }
 ],
 "metadata": {
  "language_info": {
   "codemirror_mode": {
    "name": "ipython",
    "version": 3
   },
   "file_extension": ".py",
   "mimetype": "text/x-python",
   "name": "python",
   "nbconvert_exporter": "python",
   "pygments_lexer": "ipython3",
   "version": "3.7.6-final"
  },
  "orig_nbformat": 2,
  "kernelspec": {
   "name": "python3",
   "display_name": "Python 3"
  }
 },
 "nbformat": 4,
 "nbformat_minor": 2
}