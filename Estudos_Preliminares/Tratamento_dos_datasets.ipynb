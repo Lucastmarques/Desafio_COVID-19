{
 "cells": [
  {
   "cell_type": "code",
   "execution_count": 88,
   "metadata": {},
   "outputs": [],
   "source": [
    "import pandas as pd \n",
    "import numpy as np \n",
    "\n",
    "data_covid = pd.read_csv('Casos_Covid_RN.csv')\n",
    "data_demo_bruto = pd.read_excel('atlas_mun.xlsx')"
   ]
  },
  {
   "cell_type": "code",
   "execution_count": 89,
   "metadata": {},
   "outputs": [],
   "source": [
    "data_demo = data_demo_bruto.loc[data_demo_bruto['UF'] == 24]\n",
    "data_demo = data_demo.loc[data_demo['ANO'] == 2010]"
   ]
  },
  {
   "cell_type": "code",
   "execution_count": 90,
   "metadata": {},
   "outputs": [],
   "source": [
    "data_demo = data_demo.drop(columns=['UF','Codmun6','Codmun7'])"
   ]
  },
  {
   "cell_type": "code",
   "execution_count": 91,
   "metadata": {},
   "outputs": [],
   "source": [
    "data = data_covid.iloc[:, [10,1,8]]\n",
    "data = data.drop(0, axis=0)\n",
    "data.city = data['city'].str.upper()"
   ]
  },
  {
   "cell_type": "code",
   "execution_count": 92,
   "metadata": {},
   "outputs": [
    {
     "output_type": "execute_result",
     "data": {
      "text/plain": "        ANO       Município  ESPVIDA  FECTOT  MORT1  MORT5  RAZDEP  SOBRE40  \\\n12204  2010           ACARI    71.73    1.99  21.70  23.39   47.26    94.94   \n12205  2010             AÇU    72.69    2.47  21.19  22.73   48.04    95.60   \n12206  2010  AFONSO BEZERRA    67.76    2.21  33.90  36.44   58.37    92.24   \n12207  2010       ÁGUA NOVA    71.56    1.93  22.20  23.89   48.95    94.84   \n12208  2010      ALEXANDRIA    71.71    2.28  21.80  23.47   53.86    94.92   \n...     ...             ...      ...     ...    ...    ...     ...      ...   \n12366  2010          VÁRZEA    71.28    2.50  23.00  24.70   56.16    94.67   \n12367  2010       VENHA-VER    68.31    1.93  32.00  34.40   55.53    92.66   \n12368  2010       VERA CRUZ    69.12    2.10  29.40  31.57   54.66    93.24   \n12369  2010          VIÇOSA    69.81    1.93  27.20  29.28   52.93    93.71   \n12370  2010       VILA FLOR    68.29    2.40  32.10  34.49   57.96    92.64   \n\n       SOBRE60  T_ENV  ...  PIA1517   PIA18M    POP   POPT  I_ESCOLARIDADE  \\\n12204    84.77   9.88  ...    610.0   8022.0  10958  10958           0.423   \n12205    86.55   6.99  ...   2983.0  36569.0  53079  52854           0.427   \n12206    77.90   9.22  ...    628.0   7211.0  10801  10666           0.328   \n12207    84.48   7.65  ...    206.0   2003.0   2980   2946           0.416   \n12208    84.72  11.07  ...    821.0   9450.0  13468  13284           0.325   \n...        ...    ...  ...      ...      ...    ...    ...             ...   \n12366    84.03  11.12  ...    312.0   3616.0   5233   5198           0.361   \n12367    78.91   6.23  ...    257.0   2449.0   3821   3801           0.257   \n12368    80.35   7.59  ...    791.0   7003.0  10689  10636           0.326   \n12369    81.54   8.90  ...    113.0   1106.0   1618   1608           0.335   \n12370    78.86   5.92  ...    212.0   1791.0   2869   2843           0.381   \n\n       I_FREQ_PROP   IDHM  IDHM_E  IDHM_L  IDHM_R  \n12204        0.776  0.679   0.634   0.779   0.633  \n12205        0.655  0.661   0.568   0.795   0.641  \n12206        0.621  0.585   0.502   0.713   0.560  \n12207        0.670  0.616   0.572   0.776   0.527  \n12208        0.604  0.606   0.491   0.779   0.581  \n...            ...    ...     ...     ...     ...  \n12366        0.682  0.626   0.552   0.771   0.577  \n12367        0.642  0.555   0.473   0.722   0.501  \n12368        0.609  0.587   0.494   0.735   0.558  \n12369        0.615  0.592   0.502   0.747   0.552  \n12370        0.524  0.576   0.471   0.722   0.561  \n\n[167 rows x 234 columns]",
      "text/html": "<div>\n<style scoped>\n    .dataframe tbody tr th:only-of-type {\n        vertical-align: middle;\n    }\n\n    .dataframe tbody tr th {\n        vertical-align: top;\n    }\n\n    .dataframe thead th {\n        text-align: right;\n    }\n</style>\n<table border=\"1\" class=\"dataframe\">\n  <thead>\n    <tr style=\"text-align: right;\">\n      <th></th>\n      <th>ANO</th>\n      <th>Município</th>\n      <th>ESPVIDA</th>\n      <th>FECTOT</th>\n      <th>MORT1</th>\n      <th>MORT5</th>\n      <th>RAZDEP</th>\n      <th>SOBRE40</th>\n      <th>SOBRE60</th>\n      <th>T_ENV</th>\n      <th>...</th>\n      <th>PIA1517</th>\n      <th>PIA18M</th>\n      <th>POP</th>\n      <th>POPT</th>\n      <th>I_ESCOLARIDADE</th>\n      <th>I_FREQ_PROP</th>\n      <th>IDHM</th>\n      <th>IDHM_E</th>\n      <th>IDHM_L</th>\n      <th>IDHM_R</th>\n    </tr>\n  </thead>\n  <tbody>\n    <tr>\n      <th>12204</th>\n      <td>2010</td>\n      <td>ACARI</td>\n      <td>71.73</td>\n      <td>1.99</td>\n      <td>21.70</td>\n      <td>23.39</td>\n      <td>47.26</td>\n      <td>94.94</td>\n      <td>84.77</td>\n      <td>9.88</td>\n      <td>...</td>\n      <td>610.0</td>\n      <td>8022.0</td>\n      <td>10958</td>\n      <td>10958</td>\n      <td>0.423</td>\n      <td>0.776</td>\n      <td>0.679</td>\n      <td>0.634</td>\n      <td>0.779</td>\n      <td>0.633</td>\n    </tr>\n    <tr>\n      <th>12205</th>\n      <td>2010</td>\n      <td>AÇU</td>\n      <td>72.69</td>\n      <td>2.47</td>\n      <td>21.19</td>\n      <td>22.73</td>\n      <td>48.04</td>\n      <td>95.60</td>\n      <td>86.55</td>\n      <td>6.99</td>\n      <td>...</td>\n      <td>2983.0</td>\n      <td>36569.0</td>\n      <td>53079</td>\n      <td>52854</td>\n      <td>0.427</td>\n      <td>0.655</td>\n      <td>0.661</td>\n      <td>0.568</td>\n      <td>0.795</td>\n      <td>0.641</td>\n    </tr>\n    <tr>\n      <th>12206</th>\n      <td>2010</td>\n      <td>AFONSO BEZERRA</td>\n      <td>67.76</td>\n      <td>2.21</td>\n      <td>33.90</td>\n      <td>36.44</td>\n      <td>58.37</td>\n      <td>92.24</td>\n      <td>77.90</td>\n      <td>9.22</td>\n      <td>...</td>\n      <td>628.0</td>\n      <td>7211.0</td>\n      <td>10801</td>\n      <td>10666</td>\n      <td>0.328</td>\n      <td>0.621</td>\n      <td>0.585</td>\n      <td>0.502</td>\n      <td>0.713</td>\n      <td>0.560</td>\n    </tr>\n    <tr>\n      <th>12207</th>\n      <td>2010</td>\n      <td>ÁGUA NOVA</td>\n      <td>71.56</td>\n      <td>1.93</td>\n      <td>22.20</td>\n      <td>23.89</td>\n      <td>48.95</td>\n      <td>94.84</td>\n      <td>84.48</td>\n      <td>7.65</td>\n      <td>...</td>\n      <td>206.0</td>\n      <td>2003.0</td>\n      <td>2980</td>\n      <td>2946</td>\n      <td>0.416</td>\n      <td>0.670</td>\n      <td>0.616</td>\n      <td>0.572</td>\n      <td>0.776</td>\n      <td>0.527</td>\n    </tr>\n    <tr>\n      <th>12208</th>\n      <td>2010</td>\n      <td>ALEXANDRIA</td>\n      <td>71.71</td>\n      <td>2.28</td>\n      <td>21.80</td>\n      <td>23.47</td>\n      <td>53.86</td>\n      <td>94.92</td>\n      <td>84.72</td>\n      <td>11.07</td>\n      <td>...</td>\n      <td>821.0</td>\n      <td>9450.0</td>\n      <td>13468</td>\n      <td>13284</td>\n      <td>0.325</td>\n      <td>0.604</td>\n      <td>0.606</td>\n      <td>0.491</td>\n      <td>0.779</td>\n      <td>0.581</td>\n    </tr>\n    <tr>\n      <th>...</th>\n      <td>...</td>\n      <td>...</td>\n      <td>...</td>\n      <td>...</td>\n      <td>...</td>\n      <td>...</td>\n      <td>...</td>\n      <td>...</td>\n      <td>...</td>\n      <td>...</td>\n      <td>...</td>\n      <td>...</td>\n      <td>...</td>\n      <td>...</td>\n      <td>...</td>\n      <td>...</td>\n      <td>...</td>\n      <td>...</td>\n      <td>...</td>\n      <td>...</td>\n      <td>...</td>\n    </tr>\n    <tr>\n      <th>12366</th>\n      <td>2010</td>\n      <td>VÁRZEA</td>\n      <td>71.28</td>\n      <td>2.50</td>\n      <td>23.00</td>\n      <td>24.70</td>\n      <td>56.16</td>\n      <td>94.67</td>\n      <td>84.03</td>\n      <td>11.12</td>\n      <td>...</td>\n      <td>312.0</td>\n      <td>3616.0</td>\n      <td>5233</td>\n      <td>5198</td>\n      <td>0.361</td>\n      <td>0.682</td>\n      <td>0.626</td>\n      <td>0.552</td>\n      <td>0.771</td>\n      <td>0.577</td>\n    </tr>\n    <tr>\n      <th>12367</th>\n      <td>2010</td>\n      <td>VENHA-VER</td>\n      <td>68.31</td>\n      <td>1.93</td>\n      <td>32.00</td>\n      <td>34.40</td>\n      <td>55.53</td>\n      <td>92.66</td>\n      <td>78.91</td>\n      <td>6.23</td>\n      <td>...</td>\n      <td>257.0</td>\n      <td>2449.0</td>\n      <td>3821</td>\n      <td>3801</td>\n      <td>0.257</td>\n      <td>0.642</td>\n      <td>0.555</td>\n      <td>0.473</td>\n      <td>0.722</td>\n      <td>0.501</td>\n    </tr>\n    <tr>\n      <th>12368</th>\n      <td>2010</td>\n      <td>VERA CRUZ</td>\n      <td>69.12</td>\n      <td>2.10</td>\n      <td>29.40</td>\n      <td>31.57</td>\n      <td>54.66</td>\n      <td>93.24</td>\n      <td>80.35</td>\n      <td>7.59</td>\n      <td>...</td>\n      <td>791.0</td>\n      <td>7003.0</td>\n      <td>10689</td>\n      <td>10636</td>\n      <td>0.326</td>\n      <td>0.609</td>\n      <td>0.587</td>\n      <td>0.494</td>\n      <td>0.735</td>\n      <td>0.558</td>\n    </tr>\n    <tr>\n      <th>12369</th>\n      <td>2010</td>\n      <td>VIÇOSA</td>\n      <td>69.81</td>\n      <td>1.93</td>\n      <td>27.20</td>\n      <td>29.28</td>\n      <td>52.93</td>\n      <td>93.71</td>\n      <td>81.54</td>\n      <td>8.90</td>\n      <td>...</td>\n      <td>113.0</td>\n      <td>1106.0</td>\n      <td>1618</td>\n      <td>1608</td>\n      <td>0.335</td>\n      <td>0.615</td>\n      <td>0.592</td>\n      <td>0.502</td>\n      <td>0.747</td>\n      <td>0.552</td>\n    </tr>\n    <tr>\n      <th>12370</th>\n      <td>2010</td>\n      <td>VILA FLOR</td>\n      <td>68.29</td>\n      <td>2.40</td>\n      <td>32.10</td>\n      <td>34.49</td>\n      <td>57.96</td>\n      <td>92.64</td>\n      <td>78.86</td>\n      <td>5.92</td>\n      <td>...</td>\n      <td>212.0</td>\n      <td>1791.0</td>\n      <td>2869</td>\n      <td>2843</td>\n      <td>0.381</td>\n      <td>0.524</td>\n      <td>0.576</td>\n      <td>0.471</td>\n      <td>0.722</td>\n      <td>0.561</td>\n    </tr>\n  </tbody>\n</table>\n<p>167 rows × 234 columns</p>\n</div>"
     },
     "metadata": {},
     "execution_count": 92
    }
   ],
   "source": [
    "data_demo.dropna()"
   ]
  },
  {
   "cell_type": "code",
   "execution_count": 93,
   "metadata": {},
   "outputs": [],
   "source": [
    "for col in data_demo.columns:\n",
    "    if (col != 'ANO') and (col != 'Município'):\n",
    "        data[col] = data_demo[col]\n",
    "        for municipio in data['city']:\n",
    "            for index in data_demo['Município']:\n",
    "                if(municipio == index):\n",
    "                    data.loc[data.city == index, col] = data_demo.loc[data_demo['Município'] == municipio, col].item()"
   ]
  },
  {
   "cell_type": "code",
   "execution_count": 94,
   "metadata": {},
   "outputs": [],
   "source": [
    "data.to_csv(path_or_buf='Dataset_finalizado.csv', index=False)"
   ]
  },
  {
   "cell_type": "code",
   "execution_count": null,
   "metadata": {},
   "outputs": [],
   "source": []
  }
 ],
 "metadata": {
  "language_info": {
   "codemirror_mode": {
    "name": "ipython",
    "version": 3
   },
   "file_extension": ".py",
   "mimetype": "text/x-python",
   "name": "python",
   "nbconvert_exporter": "python",
   "pygments_lexer": "ipython3",
   "version": "3.7.6-final"
  },
  "orig_nbformat": 2,
  "kernelspec": {
   "name": "python3",
   "display_name": "Python 3"
  }
 },
 "nbformat": 4,
 "nbformat_minor": 2
}