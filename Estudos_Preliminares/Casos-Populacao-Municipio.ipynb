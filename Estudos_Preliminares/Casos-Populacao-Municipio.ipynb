{
 "cells": [
  {
   "cell_type": "code",
   "execution_count": 2,
   "metadata": {},
   "outputs": [],
   "source": [
    "import pandas as pd \n",
    "import numpy as np \n",
    "\n",
    "## Ler arquivo csv e armazerna em formato DataFrame\n",
    "dados_covid = pd.read_csv('municipios_RN_COVID19.csv')\n",
    "dados_socioeconomico = pd.read_csv('AtlasBrasil_IndicadoresSociais.csv', sep=';')\n",
    "\n",
    "## Limpa os dados faltantes do dataset\n",
    "dados_covid = dados_covid.dropna()\n",
    "\n",
    "## Padroniza todas as cidades com nome minúsculo\n",
    "dados_covid['city'] = dados_covid['city'].str.lower()\n",
    "dados_socioeconomico['Espacialidades'] = dados_socioeconomico['Espacialidades'].str.lower()"
   ]
  },
  {
   "cell_type": "code",
   "execution_count": 6,
   "metadata": {},
   "outputs": [],
   "source": [
    "## Cria e insere colunas no dataframe que será utilizado para a predição dos dados\n",
    "dados_covid_socioeconomico = pd.DataFrame()\n",
    "dados_covid_socioeconomico['date'] = dados_covid.date\n",
    "dados_covid_socioeconomico['city'] = dados_covid.city\n",
    "dados_covid_socioeconomico['estimated_population_2019'] = dados_covid.estimated_population_2019\n",
    "dados_covid_socioeconomico['last_available_confirmed'] = dados_covid.last_available_confirmed\n",
    "dados_covid_socioeconomico['last_available_confirmed_per_100k_inhabitants'] = dados_covid.last_available_confirmed_per_100k_inhabitants\n",
    "dados_covid_socioeconomico['Gini_Index_2010'] = np.nan\n",
    "dados_covid_socioeconomico['access_to_water_and_basic_sanitatio_per_cent'] = np.nan\n",
    "dados_covid_socioeconomico['MHDI_income'] = np.nan\n",
    "dados_covid_socioeconomico['MHDI_education'] = np.nan\n",
    "dados_covid_socioeconomico['aging_rate'] = np.nan\n",
    "dados_covid_socioeconomico['extremely_poor_per_cent'] = np.nan\n",
    "## Coloca os dados socioeconomicos em cada célula do dataframe de acordo com a cidade\n",
    "for municipio in dados_covid_socioeconomico.city:\n",
    "    for index in dados_socioeconomico.Espacialidades:\n",
    "        if(municipio == index):\n",
    "            dados_covid_socioeconomico.loc[dados_covid_socioeconomico.city == index,'Gini_Index_2010'] = dados_socioeconomico.loc[dados_socioeconomico.Espacialidades == municipio, 'Indice_de_Gini_2010'].item()\n",
    "            dados_covid_socioeconomico.loc[dados_covid_socioeconomico.city == index,'access_to_water_and_basic_sanitatio_per_cent'] = dados_socioeconomico.loc[dados_socioeconomico.Espacialidades == municipio, 'pessoas em domicílios com abastecimento de água e esgotamento sanitário inadequados 2010'].item()\n",
    "            dados_covid_socioeconomico.loc[dados_covid_socioeconomico.city == index,'MHDI_income'] = dados_socioeconomico.loc[dados_socioeconomico.Espacialidades == municipio, 'IDHM Renda 2010'].item()\n",
    "            dados_covid_socioeconomico.loc[dados_covid_socioeconomico.city == index,'MHDI_education'] = dados_socioeconomico.loc[dados_socioeconomico.Espacialidades == municipio, 'IDHM Educação 2010'].item()\n",
    "            dados_covid_socioeconomico.loc[dados_covid_socioeconomico.city == index,'aging_rate'] = dados_socioeconomico.loc[dados_socioeconomico.Espacialidades == municipio, 'Taxa de envelhecimento 2010'].item()\n",
    "            dados_covid_socioeconomico.loc[dados_covid_socioeconomico.city == index,'extremely_poor_per_cent'] = dados_socioeconomico.loc[dados_socioeconomico.Espacialidades == municipio, 'extremamente pobres 2010'].item()\n",
    "\n",
    "## Converte as primeiras letras para maiúsculo\n",
    "dados_covid_socioeconomico['city'] = dados_covid_socioeconomico['city'].str.title()"
   ]
  },
  {
   "cell_type": "code",
   "execution_count": 7,
   "metadata": {},
   "outputs": [],
   "source": [
    "## Limpa os dados faltantes do dataframe\n",
    "dados_covid_socioeconomico = dados_covid_socioeconomico.dropna()"
   ]
  },
  {
   "cell_type": "code",
   "execution_count": 8,
   "metadata": {},
   "outputs": [],
   "source": [
    "last_info = dados_covid_socioeconomico.loc[dados_covid_socioeconomico.date == '2020-05-28']"
   ]
  },
  {
   "cell_type": "code",
   "execution_count": null,
   "metadata": {},
   "outputs": [],
   "source": []
  }
 ],
 "metadata": {
  "language_info": {
   "codemirror_mode": {
    "name": "ipython",
    "version": 3
   },
   "file_extension": ".py",
   "mimetype": "text/x-python",
   "name": "python",
   "nbconvert_exporter": "python",
   "pygments_lexer": "ipython3",
   "version": "3.7.6-final"
  },
  "orig_nbformat": 2,
  "kernelspec": {
   "name": "python3",
   "display_name": "Python 3"
  }
 },
 "nbformat": 4,
 "nbformat_minor": 2
}